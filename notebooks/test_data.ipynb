{
 "cells": [
  {
   "cell_type": "code",
   "execution_count": 25,
   "metadata": {},
   "outputs": [
    {
     "name": "stdout",
     "output_type": "stream",
     "text": [
      "The autoreload extension is already loaded. To reload it, use:\n",
      "  %reload_ext autoreload\n"
     ]
    }
   ],
   "source": [
    "%load_ext autoreload\n",
    "%autoreload 2"
   ]
  },
  {
   "cell_type": "code",
   "execution_count": 26,
   "metadata": {},
   "outputs": [],
   "source": [
    "import sys\n",
    "sys.path.append(\"../src\")"
   ]
  },
  {
   "cell_type": "code",
   "execution_count": 27,
   "metadata": {},
   "outputs": [],
   "source": [
    "from data.datamodule import SignDataModule"
   ]
  },
  {
   "cell_type": "code",
   "execution_count": 29,
   "metadata": {},
   "outputs": [],
   "source": [
    "datamodule = SignDataModule(max_sequence_length=48, normalize=False, substract=False)"
   ]
  },
  {
   "cell_type": "code",
   "execution_count": 129,
   "metadata": {},
   "outputs": [
    {
     "name": "stdout",
     "output_type": "stream",
     "text": [
      "(48, 88, 3)\n",
      "(48, 88, 3)\n",
      "(48, 88, 3)\n",
      "(48, 88, 3)\n",
      "(48, 88, 3)\n",
      "(48, 88, 3)\n",
      "(48, 88, 3)\n",
      "(48, 88, 3)\n",
      "torch.Size([4, 264, 48])\n",
      "torch.Size([4, 250])\n"
     ]
    }
   ],
   "source": [
    "for batch in datamodule.train_dataloader():\n",
    "    print(batch[0].shape)\n",
    "    print(batch[1].shape)\n",
    "    break"
   ]
  },
  {
   "cell_type": "code",
   "execution_count": 32,
   "metadata": {},
   "outputs": [
    {
     "ename": "ImportError",
     "evalue": "cannot import name 'SignModel' from 'model.tcn' (/ASL/notebooks/../src/model/tcn.py)",
     "output_type": "error",
     "traceback": [
      "\u001b[0;31m---------------------------------------------------------------------------\u001b[0m",
      "\u001b[0;31mImportError\u001b[0m                               Traceback (most recent call last)",
      "Cell \u001b[0;32mIn[32], line 1\u001b[0m\n\u001b[0;32m----> 1\u001b[0m \u001b[39mfrom\u001b[39;00m \u001b[39mmodel\u001b[39;00m\u001b[39m.\u001b[39;00m\u001b[39mtcn\u001b[39;00m \u001b[39mimport\u001b[39;00m SignModel\n",
      "\u001b[0;31mImportError\u001b[0m: cannot import name 'SignModel' from 'model.tcn' (/ASL/notebooks/../src/model/tcn.py)"
     ]
    }
   ],
   "source": [
    "from model.baseline import SignModel"
   ]
  },
  {
   "cell_type": "code",
   "execution_count": null,
   "metadata": {},
   "outputs": [],
   "source": [
    "model = SignModel(input_shape=264, hidden_units=[256, 128, 64], max_sequence_length=48)"
   ]
  },
  {
   "cell_type": "code",
   "execution_count": null,
   "metadata": {},
   "outputs": [
    {
     "data": {
      "text/plain": [
       "tensor([[0.0038, 0.0035, 0.0020, 0.0042, 0.0084, 0.0040, 0.0038, 0.0058, 0.0021,\n",
       "         0.0037, 0.0062, 0.0036, 0.0043, 0.0044, 0.0024, 0.0037, 0.0040, 0.0033,\n",
       "         0.0070, 0.0055, 0.0028, 0.0076, 0.0037, 0.0023, 0.0022, 0.0041, 0.0035,\n",
       "         0.0033, 0.0059, 0.0013, 0.0008, 0.0094, 0.0063, 0.0056, 0.0101, 0.0034,\n",
       "         0.0077, 0.0035, 0.0015, 0.0108, 0.0033, 0.0018, 0.0028, 0.0033, 0.0093,\n",
       "         0.0032, 0.0041, 0.0020, 0.0011, 0.0020, 0.0035, 0.0036, 0.0015, 0.0034,\n",
       "         0.0023, 0.0026, 0.0019, 0.0030, 0.0022, 0.0026, 0.0057, 0.0086, 0.0045,\n",
       "         0.0034, 0.0026, 0.0060, 0.0077, 0.0042, 0.0015, 0.0011, 0.0055, 0.0054,\n",
       "         0.0025, 0.0021, 0.0042, 0.0036, 0.0087, 0.0039, 0.0040, 0.0041, 0.0136,\n",
       "         0.0047, 0.0028, 0.0031, 0.0046, 0.0031, 0.0058, 0.0058, 0.0030, 0.0019,\n",
       "         0.0013, 0.0020, 0.0036, 0.0026, 0.0054, 0.0073, 0.0012, 0.0018, 0.0012,\n",
       "         0.0098, 0.0032, 0.0020, 0.0028, 0.0018, 0.0023, 0.0047, 0.0014, 0.0016,\n",
       "         0.0028, 0.0039, 0.0051, 0.0034, 0.0107, 0.0029, 0.0041, 0.0032, 0.0015,\n",
       "         0.0022, 0.0027, 0.0027, 0.0038, 0.0031, 0.0038, 0.0061, 0.0029, 0.0084,\n",
       "         0.0031, 0.0040, 0.0050, 0.0047, 0.0040, 0.0039, 0.0021, 0.0036, 0.0054,\n",
       "         0.0059, 0.0031, 0.0032, 0.0058, 0.0064, 0.0022, 0.0027, 0.0029, 0.0025,\n",
       "         0.0051, 0.0041, 0.0016, 0.0025, 0.0046, 0.0042, 0.0020, 0.0062, 0.0032,\n",
       "         0.0027, 0.0035, 0.0033, 0.0018, 0.0033, 0.0020, 0.0026, 0.0114, 0.0067,\n",
       "         0.0064, 0.0040, 0.0038, 0.0073, 0.0043, 0.0033, 0.0034, 0.0018, 0.0052,\n",
       "         0.0039, 0.0069, 0.0077, 0.0027, 0.0060, 0.0017, 0.0019, 0.0032, 0.0012,\n",
       "         0.0016, 0.0026, 0.0016, 0.0077, 0.0046, 0.0023, 0.0034, 0.0072, 0.0019,\n",
       "         0.0058, 0.0059, 0.0102, 0.0014, 0.0036, 0.0021, 0.0023, 0.0035, 0.0023,\n",
       "         0.0029, 0.0032, 0.0016, 0.0038, 0.0055, 0.0056, 0.0024, 0.0048, 0.0038,\n",
       "         0.0144, 0.0021, 0.0042, 0.0025, 0.0020, 0.0014, 0.0034, 0.0041, 0.0031,\n",
       "         0.0010, 0.0102, 0.0070, 0.0022, 0.0101, 0.0041, 0.0053, 0.0031, 0.0049,\n",
       "         0.0029, 0.0017, 0.0029, 0.0022, 0.0035, 0.0062, 0.0083, 0.0029, 0.0032,\n",
       "         0.0041, 0.0060, 0.0078, 0.0015, 0.0045, 0.0027, 0.0028, 0.0019, 0.0038,\n",
       "         0.0026, 0.0015, 0.0012, 0.0040, 0.0017, 0.0063, 0.0014],\n",
       "        [0.0027, 0.0048, 0.0033, 0.0099, 0.0063, 0.0033, 0.0074, 0.0060, 0.0043,\n",
       "         0.0035, 0.0085, 0.0040, 0.0022, 0.0066, 0.0027, 0.0022, 0.0078, 0.0046,\n",
       "         0.0070, 0.0097, 0.0015, 0.0023, 0.0037, 0.0022, 0.0023, 0.0067, 0.0042,\n",
       "         0.0016, 0.0039, 0.0017, 0.0012, 0.0035, 0.0061, 0.0082, 0.0060, 0.0033,\n",
       "         0.0065, 0.0041, 0.0064, 0.0052, 0.0050, 0.0032, 0.0030, 0.0022, 0.0098,\n",
       "         0.0060, 0.0060, 0.0026, 0.0022, 0.0028, 0.0087, 0.0034, 0.0017, 0.0013,\n",
       "         0.0023, 0.0025, 0.0011, 0.0047, 0.0059, 0.0065, 0.0020, 0.0068, 0.0030,\n",
       "         0.0040, 0.0024, 0.0061, 0.0055, 0.0064, 0.0009, 0.0013, 0.0035, 0.0033,\n",
       "         0.0020, 0.0045, 0.0047, 0.0036, 0.0051, 0.0061, 0.0029, 0.0028, 0.0074,\n",
       "         0.0028, 0.0096, 0.0055, 0.0075, 0.0026, 0.0078, 0.0105, 0.0008, 0.0008,\n",
       "         0.0039, 0.0027, 0.0033, 0.0013, 0.0068, 0.0047, 0.0027, 0.0020, 0.0023,\n",
       "         0.0029, 0.0046, 0.0039, 0.0044, 0.0024, 0.0037, 0.0065, 0.0021, 0.0013,\n",
       "         0.0075, 0.0025, 0.0019, 0.0068, 0.0073, 0.0032, 0.0030, 0.0039, 0.0024,\n",
       "         0.0024, 0.0019, 0.0038, 0.0030, 0.0021, 0.0065, 0.0062, 0.0012, 0.0061,\n",
       "         0.0035, 0.0018, 0.0026, 0.0029, 0.0056, 0.0016, 0.0042, 0.0085, 0.0040,\n",
       "         0.0032, 0.0063, 0.0063, 0.0054, 0.0045, 0.0011, 0.0050, 0.0043, 0.0050,\n",
       "         0.0018, 0.0034, 0.0014, 0.0026, 0.0027, 0.0046, 0.0024, 0.0031, 0.0009,\n",
       "         0.0038, 0.0034, 0.0072, 0.0025, 0.0029, 0.0009, 0.0035, 0.0065, 0.0110,\n",
       "         0.0077, 0.0050, 0.0017, 0.0015, 0.0047, 0.0028, 0.0037, 0.0037, 0.0107,\n",
       "         0.0049, 0.0059, 0.0105, 0.0020, 0.0028, 0.0034, 0.0012, 0.0043, 0.0031,\n",
       "         0.0028, 0.0023, 0.0033, 0.0039, 0.0030, 0.0041, 0.0032, 0.0084, 0.0014,\n",
       "         0.0042, 0.0044, 0.0060, 0.0023, 0.0011, 0.0024, 0.0022, 0.0023, 0.0025,\n",
       "         0.0034, 0.0027, 0.0016, 0.0041, 0.0026, 0.0024, 0.0026, 0.0049, 0.0040,\n",
       "         0.0045, 0.0043, 0.0025, 0.0021, 0.0020, 0.0023, 0.0029, 0.0026, 0.0050,\n",
       "         0.0013, 0.0084, 0.0159, 0.0046, 0.0025, 0.0013, 0.0038, 0.0066, 0.0037,\n",
       "         0.0040, 0.0051, 0.0059, 0.0030, 0.0021, 0.0028, 0.0059, 0.0013, 0.0031,\n",
       "         0.0013, 0.0040, 0.0064, 0.0036, 0.0018, 0.0043, 0.0026, 0.0027, 0.0017,\n",
       "         0.0013, 0.0015, 0.0037, 0.0062, 0.0020, 0.0024, 0.0034],\n",
       "        [0.0023, 0.0044, 0.0032, 0.0037, 0.0056, 0.0047, 0.0050, 0.0044, 0.0036,\n",
       "         0.0030, 0.0095, 0.0022, 0.0028, 0.0055, 0.0023, 0.0045, 0.0059, 0.0042,\n",
       "         0.0046, 0.0047, 0.0065, 0.0044, 0.0019, 0.0034, 0.0036, 0.0047, 0.0076,\n",
       "         0.0035, 0.0042, 0.0007, 0.0014, 0.0016, 0.0033, 0.0030, 0.0038, 0.0031,\n",
       "         0.0044, 0.0023, 0.0043, 0.0063, 0.0047, 0.0043, 0.0040, 0.0046, 0.0047,\n",
       "         0.0033, 0.0038, 0.0071, 0.0021, 0.0046, 0.0089, 0.0078, 0.0007, 0.0027,\n",
       "         0.0023, 0.0015, 0.0037, 0.0088, 0.0040, 0.0042, 0.0022, 0.0055, 0.0041,\n",
       "         0.0043, 0.0022, 0.0086, 0.0053, 0.0075, 0.0015, 0.0017, 0.0029, 0.0087,\n",
       "         0.0069, 0.0029, 0.0087, 0.0042, 0.0042, 0.0041, 0.0048, 0.0013, 0.0045,\n",
       "         0.0040, 0.0044, 0.0029, 0.0067, 0.0025, 0.0062, 0.0082, 0.0015, 0.0015,\n",
       "         0.0024, 0.0023, 0.0038, 0.0033, 0.0087, 0.0055, 0.0035, 0.0020, 0.0015,\n",
       "         0.0059, 0.0050, 0.0046, 0.0051, 0.0020, 0.0027, 0.0029, 0.0011, 0.0013,\n",
       "         0.0102, 0.0035, 0.0027, 0.0032, 0.0132, 0.0063, 0.0038, 0.0050, 0.0026,\n",
       "         0.0021, 0.0032, 0.0046, 0.0036, 0.0020, 0.0030, 0.0036, 0.0044, 0.0082,\n",
       "         0.0050, 0.0030, 0.0019, 0.0026, 0.0037, 0.0026, 0.0041, 0.0051, 0.0030,\n",
       "         0.0051, 0.0053, 0.0046, 0.0043, 0.0040, 0.0025, 0.0032, 0.0029, 0.0038,\n",
       "         0.0047, 0.0048, 0.0025, 0.0048, 0.0048, 0.0025, 0.0049, 0.0035, 0.0008,\n",
       "         0.0042, 0.0023, 0.0046, 0.0025, 0.0051, 0.0037, 0.0058, 0.0107, 0.0045,\n",
       "         0.0068, 0.0044, 0.0017, 0.0017, 0.0025, 0.0022, 0.0052, 0.0035, 0.0095,\n",
       "         0.0030, 0.0042, 0.0052, 0.0028, 0.0075, 0.0018, 0.0017, 0.0025, 0.0011,\n",
       "         0.0031, 0.0042, 0.0037, 0.0037, 0.0055, 0.0038, 0.0010, 0.0066, 0.0021,\n",
       "         0.0047, 0.0027, 0.0038, 0.0025, 0.0012, 0.0022, 0.0031, 0.0041, 0.0047,\n",
       "         0.0085, 0.0014, 0.0022, 0.0036, 0.0037, 0.0038, 0.0035, 0.0030, 0.0029,\n",
       "         0.0059, 0.0036, 0.0017, 0.0035, 0.0043, 0.0019, 0.0015, 0.0022, 0.0028,\n",
       "         0.0030, 0.0068, 0.0131, 0.0095, 0.0031, 0.0032, 0.0036, 0.0027, 0.0024,\n",
       "         0.0034, 0.0037, 0.0051, 0.0045, 0.0051, 0.0041, 0.0039, 0.0036, 0.0046,\n",
       "         0.0023, 0.0061, 0.0060, 0.0012, 0.0069, 0.0032, 0.0038, 0.0038, 0.0018,\n",
       "         0.0018, 0.0022, 0.0009, 0.0040, 0.0011, 0.0036, 0.0022],\n",
       "        [0.0028, 0.0057, 0.0023, 0.0029, 0.0116, 0.0022, 0.0045, 0.0037, 0.0064,\n",
       "         0.0043, 0.0052, 0.0060, 0.0032, 0.0054, 0.0021, 0.0029, 0.0091, 0.0046,\n",
       "         0.0037, 0.0086, 0.0016, 0.0026, 0.0074, 0.0024, 0.0047, 0.0054, 0.0025,\n",
       "         0.0033, 0.0021, 0.0020, 0.0017, 0.0050, 0.0044, 0.0043, 0.0070, 0.0030,\n",
       "         0.0033, 0.0028, 0.0035, 0.0097, 0.0052, 0.0020, 0.0039, 0.0024, 0.0031,\n",
       "         0.0056, 0.0060, 0.0018, 0.0038, 0.0073, 0.0084, 0.0034, 0.0023, 0.0025,\n",
       "         0.0034, 0.0071, 0.0021, 0.0041, 0.0021, 0.0058, 0.0027, 0.0051, 0.0040,\n",
       "         0.0063, 0.0039, 0.0045, 0.0074, 0.0067, 0.0007, 0.0033, 0.0032, 0.0051,\n",
       "         0.0025, 0.0036, 0.0103, 0.0038, 0.0044, 0.0045, 0.0055, 0.0034, 0.0074,\n",
       "         0.0041, 0.0036, 0.0039, 0.0045, 0.0014, 0.0038, 0.0038, 0.0017, 0.0012,\n",
       "         0.0037, 0.0013, 0.0027, 0.0045, 0.0059, 0.0042, 0.0036, 0.0032, 0.0026,\n",
       "         0.0049, 0.0079, 0.0018, 0.0048, 0.0028, 0.0044, 0.0025, 0.0044, 0.0037,\n",
       "         0.0055, 0.0054, 0.0034, 0.0033, 0.0098, 0.0040, 0.0032, 0.0040, 0.0041,\n",
       "         0.0030, 0.0015, 0.0050, 0.0031, 0.0023, 0.0030, 0.0053, 0.0017, 0.0040,\n",
       "         0.0044, 0.0030, 0.0037, 0.0022, 0.0021, 0.0041, 0.0016, 0.0044, 0.0022,\n",
       "         0.0115, 0.0026, 0.0058, 0.0045, 0.0045, 0.0015, 0.0041, 0.0031, 0.0036,\n",
       "         0.0027, 0.0036, 0.0018, 0.0032, 0.0048, 0.0025, 0.0025, 0.0026, 0.0007,\n",
       "         0.0030, 0.0069, 0.0020, 0.0024, 0.0025, 0.0027, 0.0025, 0.0067, 0.0100,\n",
       "         0.0110, 0.0050, 0.0018, 0.0024, 0.0040, 0.0054, 0.0069, 0.0034, 0.0088,\n",
       "         0.0039, 0.0034, 0.0135, 0.0014, 0.0037, 0.0046, 0.0028, 0.0022, 0.0037,\n",
       "         0.0033, 0.0028, 0.0040, 0.0053, 0.0070, 0.0035, 0.0021, 0.0044, 0.0045,\n",
       "         0.0049, 0.0051, 0.0066, 0.0018, 0.0019, 0.0012, 0.0030, 0.0048, 0.0029,\n",
       "         0.0038, 0.0040, 0.0011, 0.0027, 0.0049, 0.0041, 0.0027, 0.0022, 0.0039,\n",
       "         0.0131, 0.0031, 0.0033, 0.0037, 0.0025, 0.0024, 0.0019, 0.0033, 0.0044,\n",
       "         0.0022, 0.0062, 0.0109, 0.0035, 0.0025, 0.0019, 0.0031, 0.0014, 0.0033,\n",
       "         0.0026, 0.0054, 0.0016, 0.0027, 0.0015, 0.0031, 0.0052, 0.0023, 0.0054,\n",
       "         0.0022, 0.0038, 0.0063, 0.0023, 0.0036, 0.0049, 0.0046, 0.0055, 0.0040,\n",
       "         0.0014, 0.0025, 0.0015, 0.0018, 0.0018, 0.0025, 0.0058]],\n",
       "       grad_fn=<SoftmaxBackward0>)"
      ]
     },
     "execution_count": 9,
     "metadata": {},
     "output_type": "execute_result"
    }
   ],
   "source": [
    "model(batch[0])"
   ]
  },
  {
   "cell_type": "code",
   "execution_count": 33,
   "metadata": {},
   "outputs": [],
   "source": [
    "from model.tcn import TCNClassifier"
   ]
  },
  {
   "cell_type": "code",
   "execution_count": 34,
   "metadata": {},
   "outputs": [],
   "source": [
    "model = TCNClassifier(input_shape=264, max_sequence_length=48)"
   ]
  },
  {
   "cell_type": "code",
   "execution_count": 42,
   "metadata": {},
   "outputs": [],
   "source": [
    "pred = model(batch[0])"
   ]
  },
  {
   "cell_type": "code",
   "execution_count": 47,
   "metadata": {},
   "outputs": [
    {
     "data": {
      "text/plain": [
       "tensor(250., grad_fn=<SumBackward0>)"
      ]
     },
     "execution_count": 47,
     "metadata": {},
     "output_type": "execute_result"
    }
   ],
   "source": [
    "import torch.nn.functional as F \n",
    "F.softmax(pred, dim=0).sum()"
   ]
  },
  {
   "cell_type": "code",
   "execution_count": 43,
   "metadata": {},
   "outputs": [
    {
     "data": {
      "text/plain": [
       "torch.Size([4, 250])"
      ]
     },
     "execution_count": 43,
     "metadata": {},
     "output_type": "execute_result"
    }
   ],
   "source": [
    "pred.shape"
   ]
  },
  {
   "cell_type": "code",
   "execution_count": 40,
   "metadata": {},
   "outputs": [
    {
     "name": "stdout",
     "output_type": "stream",
     "text": [
      "torch.Size([4, 250])\n"
     ]
    },
    {
     "name": "stderr",
     "output_type": "stream",
     "text": [
      "/usr/local/lib/python3.9/dist-packages/pytorch_lightning/core/module.py:418: UserWarning: You are trying to `self.log()` but the `self.trainer` reference is not registered on the model yet. This is most likely because the model hasn't been passed to the `Trainer`\n",
      "  rank_zero_warn(\n"
     ]
    },
    {
     "data": {
      "text/plain": [
       "tensor(5.5415, grad_fn=<DivBackward1>)"
      ]
     },
     "execution_count": 40,
     "metadata": {},
     "output_type": "execute_result"
    }
   ],
   "source": [
    "model.training_step(batch, 0)"
   ]
  },
  {
   "cell_type": "code",
   "execution_count": 120,
   "metadata": {},
   "outputs": [],
   "source": [
    "from model.vqvae import SignModel"
   ]
  },
  {
   "cell_type": "code",
   "execution_count": 145,
   "metadata": {},
   "outputs": [
    {
     "name": "stdout",
     "output_type": "stream",
     "text": [
      "Latent dim = (64, 12, 22)\n"
     ]
    }
   ],
   "source": [
    "model = SignModel(input_shape=264, max_sequence_length=48,num_dim=3, embedding_dim=64, num_embeddings=64)"
   ]
  },
  {
   "cell_type": "code",
   "execution_count": 148,
   "metadata": {},
   "outputs": [],
   "source": [
    "x, x_hat, logits, loss = model(batch[0])"
   ]
  },
  {
   "cell_type": "code",
   "execution_count": 156,
   "metadata": {},
   "outputs": [
    {
     "ename": "AttributeError",
     "evalue": "QuadMesh.set() got an unexpected keyword argument 'class_names'",
     "output_type": "error",
     "traceback": [
      "\u001b[0;31m---------------------------------------------------------------------------\u001b[0m",
      "\u001b[0;31mAttributeError\u001b[0m                            Traceback (most recent call last)",
      "Cell \u001b[0;32mIn[156], line 7\u001b[0m\n\u001b[1;32m      5\u001b[0m y_true \u001b[39m=\u001b[39m batch[\u001b[39m1\u001b[39m]\u001b[39m.\u001b[39margmax(dim\u001b[39m=\u001b[39m\u001b[39m1\u001b[39m)\n\u001b[1;32m      6\u001b[0m cm \u001b[39m=\u001b[39m confusion_matrix(y_true, y_pred, normalize\u001b[39m=\u001b[39m\u001b[39m\"\u001b[39m\u001b[39mtrue\u001b[39m\u001b[39m\"\u001b[39m)\n\u001b[0;32m----> 7\u001b[0m ax \u001b[39m=\u001b[39m sns\u001b[39m.\u001b[39;49mheatmap(cm, annot\u001b[39m=\u001b[39;49m\u001b[39mTrue\u001b[39;49;00m, class_names\u001b[39m=\u001b[39;49m[\u001b[39m\"\u001b[39;49m\u001b[39m01\u001b[39;49m\u001b[39m\"\u001b[39;49m, \u001b[39m\"\u001b[39;49m\u001b[39m02\u001b[39;49m\u001b[39m\"\u001b[39;49m, \u001b[39m\"\u001b[39;49m\u001b[39m03\u001b[39;49m\u001b[39m\"\u001b[39;49m, \u001b[39m\"\u001b[39;49m\u001b[39m04\u001b[39;49m\u001b[39m\"\u001b[39;49m])\n\u001b[1;32m      8\u001b[0m ax\u001b[39m.\u001b[39mset(xlabel\u001b[39m=\u001b[39m\u001b[39m\"\u001b[39m\u001b[39mPredicted label\u001b[39m\u001b[39m\"\u001b[39m, ylabel\u001b[39m=\u001b[39m\u001b[39m\"\u001b[39m\u001b[39mTrue label\u001b[39m\u001b[39m\"\u001b[39m)\n",
      "File \u001b[0;32m/usr/local/lib/python3.9/dist-packages/seaborn/matrix.py:459\u001b[0m, in \u001b[0;36mheatmap\u001b[0;34m(data, vmin, vmax, cmap, center, robust, annot, fmt, annot_kws, linewidths, linecolor, cbar, cbar_kws, cbar_ax, square, xticklabels, yticklabels, mask, ax, **kwargs)\u001b[0m\n\u001b[1;32m    457\u001b[0m \u001b[39mif\u001b[39;00m square:\n\u001b[1;32m    458\u001b[0m     ax\u001b[39m.\u001b[39mset_aspect(\u001b[39m\"\u001b[39m\u001b[39mequal\u001b[39m\u001b[39m\"\u001b[39m)\n\u001b[0;32m--> 459\u001b[0m plotter\u001b[39m.\u001b[39;49mplot(ax, cbar_ax, kwargs)\n\u001b[1;32m    460\u001b[0m \u001b[39mreturn\u001b[39;00m ax\n",
      "File \u001b[0;32m/usr/local/lib/python3.9/dist-packages/seaborn/matrix.py:306\u001b[0m, in \u001b[0;36m_HeatMapper.plot\u001b[0;34m(self, ax, cax, kws)\u001b[0m\n\u001b[1;32m    303\u001b[0m     kws\u001b[39m.\u001b[39msetdefault(\u001b[39m\"\u001b[39m\u001b[39mvmax\u001b[39m\u001b[39m\"\u001b[39m, \u001b[39mself\u001b[39m\u001b[39m.\u001b[39mvmax)\n\u001b[1;32m    305\u001b[0m \u001b[39m# Draw the heatmap\u001b[39;00m\n\u001b[0;32m--> 306\u001b[0m mesh \u001b[39m=\u001b[39m ax\u001b[39m.\u001b[39;49mpcolormesh(\u001b[39mself\u001b[39;49m\u001b[39m.\u001b[39;49mplot_data, cmap\u001b[39m=\u001b[39;49m\u001b[39mself\u001b[39;49m\u001b[39m.\u001b[39;49mcmap, \u001b[39m*\u001b[39;49m\u001b[39m*\u001b[39;49mkws)\n\u001b[1;32m    308\u001b[0m \u001b[39m# Set the axis limits\u001b[39;00m\n\u001b[1;32m    309\u001b[0m ax\u001b[39m.\u001b[39mset(xlim\u001b[39m=\u001b[39m(\u001b[39m0\u001b[39m, \u001b[39mself\u001b[39m\u001b[39m.\u001b[39mdata\u001b[39m.\u001b[39mshape[\u001b[39m1\u001b[39m]), ylim\u001b[39m=\u001b[39m(\u001b[39m0\u001b[39m, \u001b[39mself\u001b[39m\u001b[39m.\u001b[39mdata\u001b[39m.\u001b[39mshape[\u001b[39m0\u001b[39m]))\n",
      "File \u001b[0;32m/usr/local/lib/python3.9/dist-packages/matplotlib/__init__.py:1442\u001b[0m, in \u001b[0;36m_preprocess_data.<locals>.inner\u001b[0;34m(ax, data, *args, **kwargs)\u001b[0m\n\u001b[1;32m   1439\u001b[0m \u001b[39m@functools\u001b[39m\u001b[39m.\u001b[39mwraps(func)\n\u001b[1;32m   1440\u001b[0m \u001b[39mdef\u001b[39;00m \u001b[39minner\u001b[39m(ax, \u001b[39m*\u001b[39margs, data\u001b[39m=\u001b[39m\u001b[39mNone\u001b[39;00m, \u001b[39m*\u001b[39m\u001b[39m*\u001b[39mkwargs):\n\u001b[1;32m   1441\u001b[0m     \u001b[39mif\u001b[39;00m data \u001b[39mis\u001b[39;00m \u001b[39mNone\u001b[39;00m:\n\u001b[0;32m-> 1442\u001b[0m         \u001b[39mreturn\u001b[39;00m func(ax, \u001b[39m*\u001b[39;49m\u001b[39mmap\u001b[39;49m(sanitize_sequence, args), \u001b[39m*\u001b[39;49m\u001b[39m*\u001b[39;49mkwargs)\n\u001b[1;32m   1444\u001b[0m     bound \u001b[39m=\u001b[39m new_sig\u001b[39m.\u001b[39mbind(ax, \u001b[39m*\u001b[39margs, \u001b[39m*\u001b[39m\u001b[39m*\u001b[39mkwargs)\n\u001b[1;32m   1445\u001b[0m     auto_label \u001b[39m=\u001b[39m (bound\u001b[39m.\u001b[39marguments\u001b[39m.\u001b[39mget(label_namer)\n\u001b[1;32m   1446\u001b[0m                   \u001b[39mor\u001b[39;00m bound\u001b[39m.\u001b[39mkwargs\u001b[39m.\u001b[39mget(label_namer))\n",
      "File \u001b[0;32m/usr/local/lib/python3.9/dist-packages/matplotlib/axes/_axes.py:6229\u001b[0m, in \u001b[0;36mAxes.pcolormesh\u001b[0;34m(self, alpha, norm, cmap, vmin, vmax, shading, antialiased, *args, **kwargs)\u001b[0m\n\u001b[1;32m   6225\u001b[0m     C \u001b[39m=\u001b[39m C\u001b[39m.\u001b[39mravel()\n\u001b[1;32m   6227\u001b[0m kwargs\u001b[39m.\u001b[39msetdefault(\u001b[39m'\u001b[39m\u001b[39msnap\u001b[39m\u001b[39m'\u001b[39m, mpl\u001b[39m.\u001b[39mrcParams[\u001b[39m'\u001b[39m\u001b[39mpcolormesh.snap\u001b[39m\u001b[39m'\u001b[39m])\n\u001b[0;32m-> 6229\u001b[0m collection \u001b[39m=\u001b[39m mcoll\u001b[39m.\u001b[39;49mQuadMesh(\n\u001b[1;32m   6230\u001b[0m     coords, antialiased\u001b[39m=\u001b[39;49mantialiased, shading\u001b[39m=\u001b[39;49mshading,\n\u001b[1;32m   6231\u001b[0m     array\u001b[39m=\u001b[39;49mC, cmap\u001b[39m=\u001b[39;49mcmap, norm\u001b[39m=\u001b[39;49mnorm, alpha\u001b[39m=\u001b[39;49malpha, \u001b[39m*\u001b[39;49m\u001b[39m*\u001b[39;49mkwargs)\n\u001b[1;32m   6232\u001b[0m collection\u001b[39m.\u001b[39m_scale_norm(norm, vmin, vmax)\n\u001b[1;32m   6234\u001b[0m coords \u001b[39m=\u001b[39m coords\u001b[39m.\u001b[39mreshape(\u001b[39m-\u001b[39m\u001b[39m1\u001b[39m, \u001b[39m2\u001b[39m)  \u001b[39m# flatten the grid structure; keep x, y\u001b[39;00m\n",
      "File \u001b[0;32m/usr/local/lib/python3.9/dist-packages/matplotlib/collections.py:1939\u001b[0m, in \u001b[0;36mQuadMesh.__init__\u001b[0;34m(self, coordinates, antialiased, shading, **kwargs)\u001b[0m\n\u001b[1;32m   1936\u001b[0m \u001b[39mself\u001b[39m\u001b[39m.\u001b[39m_bbox\u001b[39m.\u001b[39mupdate_from_data_xy(\u001b[39mself\u001b[39m\u001b[39m.\u001b[39m_coordinates\u001b[39m.\u001b[39mreshape(\u001b[39m-\u001b[39m\u001b[39m1\u001b[39m, \u001b[39m2\u001b[39m))\n\u001b[1;32m   1937\u001b[0m \u001b[39m# super init delayed after own init because array kwarg requires\u001b[39;00m\n\u001b[1;32m   1938\u001b[0m \u001b[39m# self._coordinates and self._shading\u001b[39;00m\n\u001b[0;32m-> 1939\u001b[0m \u001b[39msuper\u001b[39;49m()\u001b[39m.\u001b[39;49m\u001b[39m__init__\u001b[39;49m(\u001b[39m*\u001b[39;49m\u001b[39m*\u001b[39;49mkwargs)\n\u001b[1;32m   1940\u001b[0m \u001b[39mself\u001b[39m\u001b[39m.\u001b[39mset_mouseover(\u001b[39mFalse\u001b[39;00m)\n",
      "File \u001b[0;32m/usr/local/lib/python3.9/dist-packages/matplotlib/_api/deprecation.py:454\u001b[0m, in \u001b[0;36mmake_keyword_only.<locals>.wrapper\u001b[0;34m(*args, **kwargs)\u001b[0m\n\u001b[1;32m    448\u001b[0m \u001b[39mif\u001b[39;00m \u001b[39mlen\u001b[39m(args) \u001b[39m>\u001b[39m name_idx:\n\u001b[1;32m    449\u001b[0m     warn_deprecated(\n\u001b[1;32m    450\u001b[0m         since, message\u001b[39m=\u001b[39m\u001b[39m\"\u001b[39m\u001b[39mPassing the \u001b[39m\u001b[39m%(name)s\u001b[39;00m\u001b[39m \u001b[39m\u001b[39m%(obj_type)s\u001b[39;00m\u001b[39m \u001b[39m\u001b[39m\"\u001b[39m\n\u001b[1;32m    451\u001b[0m         \u001b[39m\"\u001b[39m\u001b[39mpositionally is deprecated since Matplotlib \u001b[39m\u001b[39m%(since)s\u001b[39;00m\u001b[39m; the \u001b[39m\u001b[39m\"\u001b[39m\n\u001b[1;32m    452\u001b[0m         \u001b[39m\"\u001b[39m\u001b[39mparameter will become keyword-only \u001b[39m\u001b[39m%(removal)s\u001b[39;00m\u001b[39m.\u001b[39m\u001b[39m\"\u001b[39m,\n\u001b[1;32m    453\u001b[0m         name\u001b[39m=\u001b[39mname, obj_type\u001b[39m=\u001b[39m\u001b[39mf\u001b[39m\u001b[39m\"\u001b[39m\u001b[39mparameter of \u001b[39m\u001b[39m{\u001b[39;00mfunc\u001b[39m.\u001b[39m\u001b[39m__name__\u001b[39m\u001b[39m}\u001b[39;00m\u001b[39m()\u001b[39m\u001b[39m\"\u001b[39m)\n\u001b[0;32m--> 454\u001b[0m \u001b[39mreturn\u001b[39;00m func(\u001b[39m*\u001b[39;49margs, \u001b[39m*\u001b[39;49m\u001b[39m*\u001b[39;49mkwargs)\n",
      "File \u001b[0;32m/usr/local/lib/python3.9/dist-packages/matplotlib/collections.py:201\u001b[0m, in \u001b[0;36mCollection.__init__\u001b[0;34m(self, edgecolors, facecolors, linewidths, linestyles, capstyle, joinstyle, antialiaseds, offsets, offset_transform, norm, cmap, pickradius, hatch, urls, zorder, **kwargs)\u001b[0m\n\u001b[1;32m    198\u001b[0m \u001b[39mself\u001b[39m\u001b[39m.\u001b[39m_offset_transform \u001b[39m=\u001b[39m offset_transform\n\u001b[1;32m    200\u001b[0m \u001b[39mself\u001b[39m\u001b[39m.\u001b[39m_path_effects \u001b[39m=\u001b[39m \u001b[39mNone\u001b[39;00m\n\u001b[0;32m--> 201\u001b[0m \u001b[39mself\u001b[39;49m\u001b[39m.\u001b[39;49m_internal_update(kwargs)\n\u001b[1;32m    202\u001b[0m \u001b[39mself\u001b[39m\u001b[39m.\u001b[39m_paths \u001b[39m=\u001b[39m \u001b[39mNone\u001b[39;00m\n",
      "File \u001b[0;32m/usr/local/lib/python3.9/dist-packages/matplotlib/artist.py:1223\u001b[0m, in \u001b[0;36mArtist._internal_update\u001b[0;34m(self, kwargs)\u001b[0m\n\u001b[1;32m   1216\u001b[0m \u001b[39mdef\u001b[39;00m \u001b[39m_internal_update\u001b[39m(\u001b[39mself\u001b[39m, kwargs):\n\u001b[1;32m   1217\u001b[0m \u001b[39m    \u001b[39m\u001b[39m\"\"\"\u001b[39;00m\n\u001b[1;32m   1218\u001b[0m \u001b[39m    Update artist properties without prenormalizing them, but generating\u001b[39;00m\n\u001b[1;32m   1219\u001b[0m \u001b[39m    errors as if calling `set`.\u001b[39;00m\n\u001b[1;32m   1220\u001b[0m \n\u001b[1;32m   1221\u001b[0m \u001b[39m    The lack of prenormalization is to maintain backcompatibility.\u001b[39;00m\n\u001b[1;32m   1222\u001b[0m \u001b[39m    \"\"\"\u001b[39;00m\n\u001b[0;32m-> 1223\u001b[0m     \u001b[39mreturn\u001b[39;00m \u001b[39mself\u001b[39;49m\u001b[39m.\u001b[39;49m_update_props(\n\u001b[1;32m   1224\u001b[0m         kwargs, \u001b[39m\"\u001b[39;49m\u001b[39m{cls.__name__}\u001b[39;49;00m\u001b[39m.set() got an unexpected keyword argument \u001b[39;49m\u001b[39m\"\u001b[39;49m\n\u001b[1;32m   1225\u001b[0m         \u001b[39m\"\u001b[39;49m\u001b[39m{prop_name!r}\u001b[39;49;00m\u001b[39m\"\u001b[39;49m)\n",
      "File \u001b[0;32m/usr/local/lib/python3.9/dist-packages/matplotlib/artist.py:1197\u001b[0m, in \u001b[0;36mArtist._update_props\u001b[0;34m(self, props, errfmt)\u001b[0m\n\u001b[1;32m   1195\u001b[0m             func \u001b[39m=\u001b[39m \u001b[39mgetattr\u001b[39m(\u001b[39mself\u001b[39m, \u001b[39mf\u001b[39m\u001b[39m\"\u001b[39m\u001b[39mset_\u001b[39m\u001b[39m{\u001b[39;00mk\u001b[39m}\u001b[39;00m\u001b[39m\"\u001b[39m, \u001b[39mNone\u001b[39;00m)\n\u001b[1;32m   1196\u001b[0m             \u001b[39mif\u001b[39;00m \u001b[39mnot\u001b[39;00m callable(func):\n\u001b[0;32m-> 1197\u001b[0m                 \u001b[39mraise\u001b[39;00m \u001b[39mAttributeError\u001b[39;00m(\n\u001b[1;32m   1198\u001b[0m                     errfmt\u001b[39m.\u001b[39mformat(\u001b[39mcls\u001b[39m\u001b[39m=\u001b[39m\u001b[39mtype\u001b[39m(\u001b[39mself\u001b[39m), prop_name\u001b[39m=\u001b[39mk))\n\u001b[1;32m   1199\u001b[0m             ret\u001b[39m.\u001b[39mappend(func(v))\n\u001b[1;32m   1200\u001b[0m \u001b[39mif\u001b[39;00m ret:\n",
      "\u001b[0;31mAttributeError\u001b[0m: QuadMesh.set() got an unexpected keyword argument 'class_names'"
     ]
    },
    {
     "data": {
      "image/png": "[encoded data removed]",
      "text/plain": [
       "<Figure size 640x480 with 1 Axes>"
      ]
     },
     "metadata": {},
     "output_type": "display_data"
    }
   ],
   "source": [
    "from sklearn.metrics import confusion_matrix\n",
    "import seaborn as sns\n",
    "y_pred = F.softmax(logits, dim=1)\n",
    "y_pred = y_pred.argmax(dim=1)\n",
    "y_true = batch[1].argmax(dim=1)\n",
    "cm = confusion_matrix(y_true, y_pred, normalize=\"true\", class_names=[\"01\", \"02\", \"03\", \"04\"])\n",
    "ax = sns.heatmap(cm, annot=True, )\n",
    "ax.set(xlabel=\"Predicted label\", ylabel=\"True label\")"
   ]
  },
  {
   "cell_type": "code",
   "execution_count": null,
   "metadata": {},
   "outputs": [],
   "source": []
  }
 ],
 "metadata": {
  "kernelspec": {
   "display_name": "Python 3",
   "language": "python",
   "name": "python3"
  },
  "language_info": {
   "codemirror_mode": {
    "name": "ipython",
    "version": 3
   },
   "file_extension": ".py",
   "mimetype": "text/x-python",
   "name": "python",
   "nbconvert_exporter": "python",
   "pygments_lexer": "ipython3",
   "version": "3.9.16"
  },
  "orig_nbformat": 4,
  "vscode": {
   "interpreter": {
    "hash": "f9f85f796d01129d0dd105a088854619f454435301f6ffec2fea96ecbd9be4ac"
   }
  }
 },
 "nbformat": 4,
 "nbformat_minor": 2
}
